{
 "cells": [
  {
   "cell_type": "markdown",
   "id": "cc08f238-d8e5-4bc0-9cb3-b40ae6a37e12",
   "metadata": {},
   "source": [
    "# Importando biblioteca"
   ]
  },
  {
   "cell_type": "code",
   "execution_count": 53,
   "id": "b8fa4e15-4b6e-4a24-95f9-8c4cbc4ac752",
   "metadata": {},
   "outputs": [],
   "source": [
    "import pandas as pd"
   ]
  },
  {
   "cell_type": "code",
   "execution_count": 6,
   "id": "e435e58c-f815-434f-b72f-18b32d919bf5",
   "metadata": {},
   "outputs": [],
   "source": [
    "dados = np.random.randn(2, 3)"
   ]
  },
  {
   "cell_type": "code",
   "execution_count": 7,
   "id": "f046b0df-8782-4ae9-9fd9-90f3c12d3f79",
   "metadata": {},
   "outputs": [
    {
     "data": {
      "text/plain": [
       "array([[-0.23847145,  1.52471327,  1.62099585],\n",
       "       [-0.66742625, -0.86705188,  1.63625326]])"
      ]
     },
     "execution_count": 7,
     "metadata": {},
     "output_type": "execute_result"
    }
   ],
   "source": [
    "dados"
   ]
  },
  {
   "cell_type": "code",
   "execution_count": 8,
   "id": "08c790a6-ec35-4c05-a3d7-6e14f1eb95d4",
   "metadata": {},
   "outputs": [
    {
     "data": {
      "text/plain": [
       "array([[-2.38471446, 15.24713269, 16.20995854],\n",
       "       [-6.67426254, -8.67051884, 16.36253256]])"
      ]
     },
     "execution_count": 8,
     "metadata": {},
     "output_type": "execute_result"
    }
   ],
   "source": [
    "dados * 10"
   ]
  },
  {
   "cell_type": "code",
   "execution_count": 9,
   "id": "327fb8bb-6baa-4a46-800d-518c3187b636",
   "metadata": {},
   "outputs": [
    {
     "data": {
      "text/plain": [
       "array([[-0.47694289,  3.04942654,  3.24199171],\n",
       "       [-1.33485251, -1.73410377,  3.27250651]])"
      ]
     },
     "execution_count": 9,
     "metadata": {},
     "output_type": "execute_result"
    }
   ],
   "source": [
    "dados + dados"
   ]
  },
  {
   "cell_type": "code",
   "execution_count": 10,
   "id": "d910160f-a0f4-413f-b57b-bbd15aa3c983",
   "metadata": {},
   "outputs": [
    {
     "data": {
      "text/plain": [
       "(2, 3)"
      ]
     },
     "execution_count": 10,
     "metadata": {},
     "output_type": "execute_result"
    }
   ],
   "source": [
    "dados.shape"
   ]
  },
  {
   "cell_type": "code",
   "execution_count": 11,
   "id": "c14c12be-3a41-425f-92d3-56cfdf06b0af",
   "metadata": {},
   "outputs": [
    {
     "data": {
      "text/plain": [
       "dtype('float64')"
      ]
     },
     "execution_count": 11,
     "metadata": {},
     "output_type": "execute_result"
    }
   ],
   "source": [
    "dados.dtype"
   ]
  },
  {
   "cell_type": "markdown",
   "id": "97021ddd-ebbe-4e64-9511-e28de13e7b36",
   "metadata": {},
   "source": [
    "# Conversão de dados"
   ]
  },
  {
   "cell_type": "code",
   "execution_count": 13,
   "id": "a7923bed-2fde-4341-aea3-55281c3247d3",
   "metadata": {},
   "outputs": [],
   "source": [
    "dados1 = [6, 7.5, 8, 0, 1]"
   ]
  },
  {
   "cell_type": "code",
   "execution_count": 14,
   "id": "a6b8b6ba-a53f-46a1-9f7f-1e962f535692",
   "metadata": {},
   "outputs": [],
   "source": [
    "matriz1 = np.array(dados1)"
   ]
  },
  {
   "cell_type": "code",
   "execution_count": 15,
   "id": "807ffc94-adb4-470e-bccd-82f319060377",
   "metadata": {},
   "outputs": [
    {
     "data": {
      "text/plain": [
       "array([6. , 7.5, 8. , 0. , 1. ])"
      ]
     },
     "execution_count": 15,
     "metadata": {},
     "output_type": "execute_result"
    }
   ],
   "source": [
    "matriz1"
   ]
  },
  {
   "cell_type": "code",
   "execution_count": 16,
   "id": "1d1ffb17-cd88-422f-80b8-0b54bba8f691",
   "metadata": {},
   "outputs": [],
   "source": [
    "dados2 = [[1, 2, 3, 4], [5, 6, 7, 8]]"
   ]
  },
  {
   "cell_type": "code",
   "execution_count": 17,
   "id": "79a0144a-4203-491b-aed2-d68071c24dc6",
   "metadata": {},
   "outputs": [],
   "source": [
    "matriz2 = np.array(dados2)"
   ]
  },
  {
   "cell_type": "code",
   "execution_count": 18,
   "id": "1ec4a152-7cac-4b70-a6d9-aeb76937b60a",
   "metadata": {},
   "outputs": [
    {
     "data": {
      "text/plain": [
       "array([[1, 2, 3, 4],\n",
       "       [5, 6, 7, 8]])"
      ]
     },
     "execution_count": 18,
     "metadata": {},
     "output_type": "execute_result"
    }
   ],
   "source": [
    "matriz2"
   ]
  },
  {
   "cell_type": "code",
   "execution_count": 20,
   "id": "bab851a7-c0d6-4536-b42e-8660aff49797",
   "metadata": {},
   "outputs": [
    {
     "data": {
      "text/plain": [
       "(2, 4)"
      ]
     },
     "execution_count": 20,
     "metadata": {},
     "output_type": "execute_result"
    }
   ],
   "source": [
    "matriz2.shape"
   ]
  },
  {
   "cell_type": "code",
   "execution_count": 21,
   "id": "fd82f365-59d5-4ec7-a63d-d80a21e3ae8b",
   "metadata": {},
   "outputs": [
    {
     "data": {
      "text/plain": [
       "2"
      ]
     },
     "execution_count": 21,
     "metadata": {},
     "output_type": "execute_result"
    }
   ],
   "source": [
    "matriz2.ndim"
   ]
  },
  {
   "cell_type": "code",
   "execution_count": 22,
   "id": "ca56f092-7f2e-49b9-bc16-5d0b3684033f",
   "metadata": {},
   "outputs": [
    {
     "data": {
      "text/plain": [
       "dtype('float64')"
      ]
     },
     "execution_count": 22,
     "metadata": {},
     "output_type": "execute_result"
    }
   ],
   "source": [
    "matriz1.dtype"
   ]
  },
  {
   "cell_type": "code",
   "execution_count": 23,
   "id": "924fc2dc-663b-47dc-94a4-23ddd38f6f65",
   "metadata": {},
   "outputs": [
    {
     "data": {
      "text/plain": [
       "dtype('int32')"
      ]
     },
     "execution_count": 23,
     "metadata": {},
     "output_type": "execute_result"
    }
   ],
   "source": [
    "matriz2.dtype"
   ]
  },
  {
   "cell_type": "code",
   "execution_count": 24,
   "id": "23176e4f-3166-4fd3-aa41-54c54df48261",
   "metadata": {},
   "outputs": [
    {
     "data": {
      "text/plain": [
       "array([0., 0., 0., 0., 0., 0., 0., 0., 0., 0.])"
      ]
     },
     "execution_count": 24,
     "metadata": {},
     "output_type": "execute_result"
    }
   ],
   "source": [
    "np.zeros(10)"
   ]
  },
  {
   "cell_type": "code",
   "execution_count": 25,
   "id": "d7ee49d2-893b-42e0-aa9a-3be85384bbf7",
   "metadata": {},
   "outputs": [
    {
     "data": {
      "text/plain": [
       "array([[0., 0., 0., 0., 0., 0.],\n",
       "       [0., 0., 0., 0., 0., 0.],\n",
       "       [0., 0., 0., 0., 0., 0.]])"
      ]
     },
     "execution_count": 25,
     "metadata": {},
     "output_type": "execute_result"
    }
   ],
   "source": [
    "np.zeros((3, 6))"
   ]
  },
  {
   "cell_type": "code",
   "execution_count": 27,
   "id": "3831348c-0492-4ba2-bbae-f2da80902bed",
   "metadata": {},
   "outputs": [
    {
     "data": {
      "text/plain": [
       "array([[[1.04510310e-311, 2.47032823e-322],\n",
       "        [0.00000000e+000, 0.00000000e+000],\n",
       "        [1.12465777e-312, 6.82116729e-043]],\n",
       "\n",
       "       [[7.43099726e-091, 7.12309085e-067],\n",
       "        [2.81299236e-033, 1.39641553e-075],\n",
       "        [3.99910963e+252, 9.51330831e-047]]])"
      ]
     },
     "execution_count": 27,
     "metadata": {},
     "output_type": "execute_result"
    }
   ],
   "source": [
    "np.empty((2, 3, 2))"
   ]
  },
  {
   "cell_type": "code",
   "execution_count": 28,
   "id": "2f4b86f7-6487-47d3-b0f4-0b4539be7f32",
   "metadata": {},
   "outputs": [
    {
     "data": {
      "text/plain": [
       "array([ 0,  1,  2,  3,  4,  5,  6,  7,  8,  9, 10, 11, 12, 13, 14])"
      ]
     },
     "execution_count": 28,
     "metadata": {},
     "output_type": "execute_result"
    }
   ],
   "source": [
    "np.arange(15)"
   ]
  },
  {
   "cell_type": "markdown",
   "id": "c089b108-82fe-497c-a638-6264343f3f42",
   "metadata": {},
   "source": [
    "# Tipos de dados"
   ]
  },
  {
   "cell_type": "code",
   "execution_count": 30,
   "id": "0a25925b-c515-4967-a460-56eb0fe09381",
   "metadata": {},
   "outputs": [],
   "source": [
    "matriz1 = np.array([1, 2, 3], dtype=np.float64)"
   ]
  },
  {
   "cell_type": "code",
   "execution_count": 31,
   "id": "f5855093-6453-43b9-af5c-2e418ef4bc41",
   "metadata": {},
   "outputs": [],
   "source": [
    "matriz2 = np.array([1, 2, 3], dtype=np.int32)"
   ]
  },
  {
   "cell_type": "code",
   "execution_count": 32,
   "id": "d214a526-fbfc-4b2a-9a9c-cba39d6092eb",
   "metadata": {},
   "outputs": [
    {
     "data": {
      "text/plain": [
       "dtype('float64')"
      ]
     },
     "execution_count": 32,
     "metadata": {},
     "output_type": "execute_result"
    }
   ],
   "source": [
    "matriz1.dtype"
   ]
  },
  {
   "cell_type": "code",
   "execution_count": 34,
   "id": "6431abcb-b234-4bab-bf83-ee70ef923f9c",
   "metadata": {},
   "outputs": [
    {
     "data": {
      "text/plain": [
       "dtype('int32')"
      ]
     },
     "execution_count": 34,
     "metadata": {},
     "output_type": "execute_result"
    }
   ],
   "source": [
    "matriz2.dtype"
   ]
  },
  {
   "cell_type": "code",
   "execution_count": 35,
   "id": "ef8ed3f6-1bfb-4f77-91ef-e9d860600544",
   "metadata": {},
   "outputs": [],
   "source": [
    "matriz = np.array([1, 2, 3, 4, 5])"
   ]
  },
  {
   "cell_type": "code",
   "execution_count": 36,
   "id": "f886f3be-8763-4ed0-accc-bffadacbd6c1",
   "metadata": {},
   "outputs": [
    {
     "data": {
      "text/plain": [
       "dtype('int32')"
      ]
     },
     "execution_count": 36,
     "metadata": {},
     "output_type": "execute_result"
    }
   ],
   "source": [
    "matriz.dtype"
   ]
  },
  {
   "cell_type": "code",
   "execution_count": 37,
   "id": "d9efce20-d6b1-44cf-a756-d1ffb9b61264",
   "metadata": {},
   "outputs": [],
   "source": [
    "float_matriz = matriz.astype(np.float64)"
   ]
  },
  {
   "cell_type": "code",
   "execution_count": 40,
   "id": "0c727b77-65c1-4b0b-8939-aeb41861d3d8",
   "metadata": {},
   "outputs": [
    {
     "data": {
      "text/plain": [
       "dtype('float64')"
      ]
     },
     "execution_count": 40,
     "metadata": {},
     "output_type": "execute_result"
    }
   ],
   "source": [
    "float_matriz.dtype"
   ]
  },
  {
   "cell_type": "code",
   "execution_count": 41,
   "id": "bdf89bcd-ec44-41b0-b831-c9ddc9fb5593",
   "metadata": {},
   "outputs": [],
   "source": [
    "matriz = np.array([3.7, -1.2, -2.6, 0.5, 12.9, 10.1])"
   ]
  },
  {
   "cell_type": "code",
   "execution_count": 42,
   "id": "e23f41ce-305e-4cfb-8fd3-c84295d1bba9",
   "metadata": {},
   "outputs": [
    {
     "data": {
      "text/plain": [
       "array([ 3.7, -1.2, -2.6,  0.5, 12.9, 10.1])"
      ]
     },
     "execution_count": 42,
     "metadata": {},
     "output_type": "execute_result"
    }
   ],
   "source": [
    "matriz"
   ]
  },
  {
   "cell_type": "code",
   "execution_count": 43,
   "id": "9c387656-0aed-422e-86cf-daf6d1c12a36",
   "metadata": {},
   "outputs": [
    {
     "data": {
      "text/plain": [
       "array([ 3, -1, -2,  0, 12, 10])"
      ]
     },
     "execution_count": 43,
     "metadata": {},
     "output_type": "execute_result"
    }
   ],
   "source": [
    "matriz.astype(np.int32)"
   ]
  },
  {
   "cell_type": "markdown",
   "id": "905e9d49-9076-46f6-93cf-cf27d73b1d8a",
   "metadata": {},
   "source": [
    "# Strings Numéricas"
   ]
  },
  {
   "cell_type": "code",
   "execution_count": 45,
   "id": "14103548-7b2d-40da-867b-22143d3e7c87",
   "metadata": {},
   "outputs": [],
   "source": [
    "strings = np.array(['1.25', '-9.6', '42'], dtype=np.string_)"
   ]
  },
  {
   "cell_type": "code",
   "execution_count": 46,
   "id": "e288db43-fd84-4001-bdf3-2ad921680062",
   "metadata": {},
   "outputs": [
    {
     "data": {
      "text/plain": [
       "array([ 1.25, -9.6 , 42.  ])"
      ]
     },
     "execution_count": 46,
     "metadata": {},
     "output_type": "execute_result"
    }
   ],
   "source": [
    "strings.astype(float)"
   ]
  },
  {
   "cell_type": "code",
   "execution_count": 47,
   "id": "4284fbf6-8183-4821-97e6-fb7cc214f930",
   "metadata": {},
   "outputs": [],
   "source": [
    "int = np.arange(10)"
   ]
  },
  {
   "cell_type": "code",
   "execution_count": 49,
   "id": "162e97c8-b2ed-4e1f-986c-b79b4a15ed3c",
   "metadata": {},
   "outputs": [],
   "source": [
    "calibre = np.array([.22, .270, .357, .380, .44, .50], dtype=np.float64)"
   ]
  },
  {
   "cell_type": "markdown",
   "id": "ab2fa776-4b18-42c2-b50e-df85181c56aa",
   "metadata": {},
   "source": [
    "* Conversão"
   ]
  },
  {
   "cell_type": "code",
   "execution_count": 50,
   "id": "45c28398-388b-493c-b716-c5ad1a8c2bd0",
   "metadata": {},
   "outputs": [
    {
     "data": {
      "text/plain": [
       "array([0., 1., 2., 3., 4., 5., 6., 7., 8., 9.])"
      ]
     },
     "execution_count": 50,
     "metadata": {},
     "output_type": "execute_result"
    }
   ],
   "source": [
    "int.astype(calibre.dtype)"
   ]
  },
  {
   "cell_type": "code",
   "execution_count": 51,
   "id": "6f32f220-ac93-4ee1-b1de-9e65bd8a60e0",
   "metadata": {},
   "outputs": [],
   "source": [
    "vazio_uint32 = np.empty(8, dtype = 'u4')"
   ]
  },
  {
   "cell_type": "code",
   "execution_count": 52,
   "id": "52c5229c-9eff-47c7-ab23-9c56d5e1fd8f",
   "metadata": {},
   "outputs": [
    {
     "data": {
      "text/plain": [
       "array([         0, 1075314688,          0, 1075707904,          0,\n",
       "       1075838976,          0, 1072693248], dtype=uint32)"
      ]
     },
     "execution_count": 52,
     "metadata": {},
     "output_type": "execute_result"
    }
   ],
   "source": [
    "vazio_uint32"
   ]
  },
  {
   "cell_type": "code",
   "execution_count": null,
   "id": "72f7f7b4-c9af-4a1c-a786-9caf128d0cc2",
   "metadata": {},
   "outputs": [],
   "source": []
  }
 ],
 "metadata": {
  "kernelspec": {
   "display_name": "Python 3 (ipykernel)",
   "language": "python",
   "name": "python3"
  },
  "language_info": {
   "codemirror_mode": {
    "name": "ipython",
    "version": 3
   },
   "file_extension": ".py",
   "mimetype": "text/x-python",
   "name": "python",
   "nbconvert_exporter": "python",
   "pygments_lexer": "ipython3",
   "version": "3.12.1"
  }
 },
 "nbformat": 4,
 "nbformat_minor": 5
}
