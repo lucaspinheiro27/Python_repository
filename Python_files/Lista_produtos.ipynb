{
 "cells": [
  {
   "cell_type": "markdown",
   "metadata": {},
   "source": [
    "Carregando bibliotecas"
   ]
  },
  {
   "cell_type": "code",
   "execution_count": 114,
   "metadata": {},
   "outputs": [],
   "source": [
    "import numpy as np\n"
   ]
  },
  {
   "cell_type": "markdown",
   "metadata": {},
   "source": [
    "Definindo lista de produtos"
   ]
  },
  {
   "cell_type": "code",
   "execution_count": 115,
   "metadata": {},
   "outputs": [],
   "source": [
    "prod = ['Kindle', 'Fire TV Stick', 'Echo Dot', 'Smartphones', 'Fones de ouvido bluetooth', 'Filtro de linha',\n",
    "        'Impressora multifuncional', 'Notebook', 'Smart TV', 'Pilhas descartáveis e recarregáveis']"
   ]
  },
  {
   "cell_type": "code",
   "execution_count": 116,
   "metadata": {},
   "outputs": [
    {
     "data": {
      "text/plain": [
       "array(['Kindle', 'Fire TV Stick', 'Echo Dot', 'Smartphones',\n",
       "       'Fones de ouvido bluetooth', 'Filtro de linha',\n",
       "       'Impressora multifuncional', 'Notebook', 'Smart TV',\n",
       "       'Pilhas descartáveis e recarregáveis'], dtype='<U35')"
      ]
     },
     "execution_count": 116,
     "metadata": {},
     "output_type": "execute_result"
    }
   ],
   "source": [
    "produtos = np.array(prod)\n",
    "produtos"
   ]
  },
  {
   "cell_type": "markdown",
   "metadata": {},
   "source": [
    "Remodelando matriz"
   ]
  },
  {
   "cell_type": "code",
   "execution_count": 117,
   "metadata": {},
   "outputs": [
    {
     "data": {
      "text/plain": [
       "array([['Kindle', 'Fire TV Stick', 'Echo Dot', 'Smartphones',\n",
       "        'Fones de ouvido bluetooth', 'Filtro de linha',\n",
       "        'Impressora multifuncional', 'Notebook', 'Smart TV',\n",
       "        'Pilhas descartáveis e recarregáveis']], dtype='<U35')"
      ]
     },
     "execution_count": 117,
     "metadata": {},
     "output_type": "execute_result"
    }
   ],
   "source": [
    "produtos.reshape((1,10))"
   ]
  },
  {
   "cell_type": "markdown",
   "metadata": {},
   "source": [
    "Pegando os 5 primeiros itens da matriz"
   ]
  },
  {
   "cell_type": "code",
   "execution_count": 118,
   "metadata": {},
   "outputs": [
    {
     "data": {
      "text/plain": [
       "array([['Kindle', 'Fire TV Stick', 'Echo Dot', 'Smartphones',\n",
       "        'Fones de ouvido bluetooth']], dtype='<U35')"
      ]
     },
     "execution_count": 118,
     "metadata": {},
     "output_type": "execute_result"
    }
   ],
   "source": [
    "produtos[np.newaxis, 0:5]"
   ]
  },
  {
   "cell_type": "markdown",
   "metadata": {},
   "source": [
    "Ordenando os itens em apenas uma coluna"
   ]
  },
  {
   "cell_type": "code",
   "execution_count": 119,
   "metadata": {},
   "outputs": [
    {
     "data": {
      "text/plain": [
       "array([['Kindle'],\n",
       "       ['Fire TV Stick'],\n",
       "       ['Echo Dot'],\n",
       "       ['Smartphones'],\n",
       "       ['Fones de ouvido bluetooth'],\n",
       "       ['Filtro de linha'],\n",
       "       ['Impressora multifuncional'],\n",
       "       ['Notebook'],\n",
       "       ['Smart TV'],\n",
       "       ['Pilhas descartáveis e recarregáveis']], dtype='<U35')"
      ]
     },
     "execution_count": 119,
     "metadata": {},
     "output_type": "execute_result"
    }
   ],
   "source": [
    "produtos.reshape((10,1))"
   ]
  },
  {
   "cell_type": "markdown",
   "metadata": {},
   "source": [
    "Usando concatenação dos primeiros cinco produtos e os últimos cinco itens da matriz"
   ]
  },
  {
   "cell_type": "code",
   "execution_count": 120,
   "metadata": {},
   "outputs": [
    {
     "data": {
      "text/plain": [
       "array(['Kindle', 'Fire TV Stick', 'Echo Dot', 'Smartphones',\n",
       "       'Fones de ouvido bluetooth', 'Filtro de linha',\n",
       "       'Impressora multifuncional', 'Notebook', 'Smart TV',\n",
       "       'Pilhas descartáveis e recarregáveis'], dtype='<U35')"
      ]
     },
     "execution_count": 120,
     "metadata": {},
     "output_type": "execute_result"
    }
   ],
   "source": [
    "x = np.array(['Kindle', 'Fire TV Stick', 'Echo Dot', 'Smartphones', 'Fones de ouvido bluetooth'])\n",
    "y = np.array(['Filtro de linha','Impressora multifuncional', 'Notebook', 'Smart TV', 'Pilhas descartáveis e recarregáveis'])\n",
    "np.concatenate([x,y])\n"
   ]
  },
  {
   "cell_type": "markdown",
   "metadata": {},
   "source": [
    "Fazendo a concatenção de mais itens"
   ]
  },
  {
   "cell_type": "code",
   "execution_count": 121,
   "metadata": {},
   "outputs": [],
   "source": [
    "z = ['Antena de TV interna', 'Caixas de som bluetooth', 'Condicionador automotivo', 'Jogos para PlayStation 5 e Xbox One', 'Carros Hot Wheels']"
   ]
  },
  {
   "cell_type": "code",
   "execution_count": 122,
   "metadata": {},
   "outputs": [
    {
     "data": {
      "text/plain": [
       "array(['Kindle', 'Fire TV Stick', 'Echo Dot', 'Smartphones',\n",
       "       'Fones de ouvido bluetooth', 'Filtro de linha',\n",
       "       'Impressora multifuncional', 'Notebook', 'Smart TV',\n",
       "       'Pilhas descartáveis e recarregáveis', 'Antena de TV interna',\n",
       "       'Caixas de som bluetooth', 'Condicionador automotivo',\n",
       "       'Jogos para PlayStation 5 e Xbox One', 'Carros Hot Wheels'],\n",
       "      dtype='<U35')"
      ]
     },
     "execution_count": 122,
     "metadata": {},
     "output_type": "execute_result"
    }
   ],
   "source": [
    "np.concatenate([x,y,z])"
   ]
  },
  {
   "cell_type": "markdown",
   "metadata": {},
   "source": [
    "Fazendo uma concatenação com 2 dimensões"
   ]
  },
  {
   "cell_type": "code",
   "execution_count": 123,
   "metadata": {},
   "outputs": [],
   "source": [
    "itens = np.array([['Kindle', 'Fire TV Stick', 'Echo Dot'],\n",
    "                  ['Smartphones','Fones de ouvido bluetooth', 'Filtro de linha']])"
   ]
  },
  {
   "cell_type": "code",
   "execution_count": 124,
   "metadata": {},
   "outputs": [
    {
     "data": {
      "text/plain": [
       "array([['Kindle', 'Fire TV Stick', 'Echo Dot'],\n",
       "       ['Smartphones', 'Fones de ouvido bluetooth', 'Filtro de linha'],\n",
       "       ['Kindle', 'Fire TV Stick', 'Echo Dot'],\n",
       "       ['Smartphones', 'Fones de ouvido bluetooth', 'Filtro de linha']],\n",
       "      dtype='<U25')"
      ]
     },
     "execution_count": 124,
     "metadata": {},
     "output_type": "execute_result"
    }
   ],
   "source": [
    "np.concatenate([itens,itens])"
   ]
  },
  {
   "cell_type": "code",
   "execution_count": 125,
   "metadata": {},
   "outputs": [
    {
     "data": {
      "text/plain": [
       "array([['Kindle', 'Fire TV Stick', 'Echo Dot', 'Kindle', 'Fire TV Stick',\n",
       "        'Echo Dot'],\n",
       "       ['Smartphones', 'Fones de ouvido bluetooth', 'Filtro de linha',\n",
       "        'Smartphones', 'Fones de ouvido bluetooth', 'Filtro de linha']],\n",
       "      dtype='<U25')"
      ]
     },
     "execution_count": 125,
     "metadata": {},
     "output_type": "execute_result"
    }
   ],
   "source": [
    "np.concatenate([itens,itens], axis=1)"
   ]
  },
  {
   "cell_type": "markdown",
   "metadata": {},
   "source": [
    "Organizando as matrizes verticalmente"
   ]
  },
  {
   "cell_type": "code",
   "execution_count": 126,
   "metadata": {},
   "outputs": [],
   "source": [
    "x = np.array(['Kindle', 'Fire TV Stick','Echo Dot'])\n",
    "y = np.array([['Smartphones', 'Fones de ouvido bluetooth', 'Filtro de linha'],\n",
    "             ['Impressora multifuncional', 'Notebook', 'Smart TV']])"
   ]
  },
  {
   "cell_type": "code",
   "execution_count": 127,
   "metadata": {},
   "outputs": [
    {
     "data": {
      "text/plain": [
       "array([['Kindle', 'Fire TV Stick', 'Echo Dot'],\n",
       "       ['Smartphones', 'Fones de ouvido bluetooth', 'Filtro de linha'],\n",
       "       ['Impressora multifuncional', 'Notebook', 'Smart TV']],\n",
       "      dtype='<U25')"
      ]
     },
     "execution_count": 127,
     "metadata": {},
     "output_type": "execute_result"
    }
   ],
   "source": [
    "np.vstack([x, y])\n"
   ]
  },
  {
   "cell_type": "markdown",
   "metadata": {},
   "source": [
    "Agora horizontalmente"
   ]
  },
  {
   "cell_type": "code",
   "execution_count": 128,
   "metadata": {},
   "outputs": [
    {
     "data": {
      "text/plain": [
       "array([['Smartphones', 'Fones de ouvido bluetooth', 'Filtro de linha',\n",
       "        'Azeite de oliva'],\n",
       "       ['Impressora multifuncional', 'Notebook', 'Smart TV', 'Frigobar']],\n",
       "      dtype='<U25')"
      ]
     },
     "execution_count": 128,
     "metadata": {},
     "output_type": "execute_result"
    }
   ],
   "source": [
    "z = np.array([['Azeite de oliva'],\n",
    "             ['Frigobar']])\n",
    "np.hstack([y,z])"
   ]
  },
  {
   "cell_type": "markdown",
   "metadata": {},
   "source": [
    "Separando as matrizes"
   ]
  },
  {
   "cell_type": "code",
   "execution_count": 129,
   "metadata": {},
   "outputs": [
    {
     "data": {
      "text/plain": [
       "(array(['Notebook', 'Smart TV', 'Pilhas descartáveis'], dtype='<U24'),\n",
       " array(['Antena de TV interna', 'Caixas de som bluetooth'], dtype='<U24'),\n",
       " array(['Condicionador automotivo', 'Jogos para PlayStation', 'Xbox One',\n",
       "        'Carros Hot Wheels'], dtype='<U24'))"
      ]
     },
     "execution_count": 129,
     "metadata": {},
     "output_type": "execute_result"
    }
   ],
   "source": [
    "x = [\"Notebook\", \"Smart TV\", \"Pilhas descartáveis\", \"Antena de TV interna\", \"Caixas de som bluetooth\", \"Condicionador automotivo\", \"Jogos para PlayStation\", \"Xbox One\", \"Carros Hot Wheels\"]\n",
    "x1, x2, x3 = np.split(x, [3,5]) #definindo marcadores de intervalos das divisões\n",
    "x1, x2, x3"
   ]
  },
  {
   "cell_type": "code",
   "execution_count": 130,
   "metadata": {},
   "outputs": [
    {
     "data": {
      "text/plain": [
       "array([['Kindle', 'Fire TV Stick'],\n",
       "       ['Echo Dot', 'Smartphones'],\n",
       "       ['Fones de ouvido bluetooth', 'Filtro de linha'],\n",
       "       ['Impressora multifuncional', 'Notebook'],\n",
       "       ['Smart TV', 'Pilhas descartáveis e recarregáveis']], dtype='<U35')"
      ]
     },
     "execution_count": 130,
     "metadata": {},
     "output_type": "execute_result"
    }
   ],
   "source": [
    "mp = produtos.reshape((5,2))\n",
    "mp"
   ]
  },
  {
   "cell_type": "code",
   "execution_count": 131,
   "metadata": {},
   "outputs": [],
   "source": [
    "upper, lower = np.vsplit(mp, [2])\n"
   ]
  },
  {
   "cell_type": "code",
   "execution_count": 132,
   "metadata": {},
   "outputs": [
    {
     "data": {
      "text/plain": [
       "array([['Kindle', 'Fire TV Stick'],\n",
       "       ['Echo Dot', 'Smartphones']], dtype='<U35')"
      ]
     },
     "execution_count": 132,
     "metadata": {},
     "output_type": "execute_result"
    }
   ],
   "source": [
    "upper"
   ]
  },
  {
   "cell_type": "code",
   "execution_count": 133,
   "metadata": {},
   "outputs": [
    {
     "data": {
      "text/plain": [
       "array([['Fones de ouvido bluetooth', 'Filtro de linha'],\n",
       "       ['Impressora multifuncional', 'Notebook'],\n",
       "       ['Smart TV', 'Pilhas descartáveis e recarregáveis']], dtype='<U35')"
      ]
     },
     "execution_count": 133,
     "metadata": {},
     "output_type": "execute_result"
    }
   ],
   "source": [
    "lower"
   ]
  },
  {
   "cell_type": "code",
   "execution_count": 134,
   "metadata": {},
   "outputs": [
    {
     "data": {
      "text/plain": [
       "array([['Kindle', 'Fire TV Stick'],\n",
       "       ['Echo Dot', 'Smartphones'],\n",
       "       ['Fones de ouvido bluetooth', 'Filtro de linha'],\n",
       "       ['Impressora multifuncional', 'Notebook'],\n",
       "       ['Smart TV', 'Pilhas descartáveis e recarregáveis']], dtype='<U35')"
      ]
     },
     "execution_count": 134,
     "metadata": {},
     "output_type": "execute_result"
    }
   ],
   "source": [
    "mp"
   ]
  },
  {
   "cell_type": "code",
   "execution_count": 135,
   "metadata": {},
   "outputs": [],
   "source": [
    "esquerda, direita = np.hsplit(mp, [1])"
   ]
  },
  {
   "cell_type": "code",
   "execution_count": 136,
   "metadata": {},
   "outputs": [
    {
     "data": {
      "text/plain": [
       "array([['Kindle'],\n",
       "       ['Echo Dot'],\n",
       "       ['Fones de ouvido bluetooth'],\n",
       "       ['Impressora multifuncional'],\n",
       "       ['Smart TV']], dtype='<U35')"
      ]
     },
     "execution_count": 136,
     "metadata": {},
     "output_type": "execute_result"
    }
   ],
   "source": [
    "esquerda"
   ]
  },
  {
   "cell_type": "code",
   "execution_count": 137,
   "metadata": {},
   "outputs": [
    {
     "data": {
      "text/plain": [
       "array([['Fire TV Stick'],\n",
       "       ['Smartphones'],\n",
       "       ['Filtro de linha'],\n",
       "       ['Notebook'],\n",
       "       ['Pilhas descartáveis e recarregáveis']], dtype='<U35')"
      ]
     },
     "execution_count": 137,
     "metadata": {},
     "output_type": "execute_result"
    }
   ],
   "source": [
    "direita"
   ]
  },
  {
   "cell_type": "code",
   "execution_count": null,
   "metadata": {},
   "outputs": [],
   "source": []
  }
 ],
 "metadata": {
  "kernelspec": {
   "display_name": "Python 3",
   "language": "python",
   "name": "python3"
  },
  "language_info": {
   "codemirror_mode": {
    "name": "ipython",
    "version": 3
   },
   "file_extension": ".py",
   "mimetype": "text/x-python",
   "name": "python",
   "nbconvert_exporter": "python",
   "pygments_lexer": "ipython3",
   "version": "3.11.6"
  }
 },
 "nbformat": 4,
 "nbformat_minor": 2
}
