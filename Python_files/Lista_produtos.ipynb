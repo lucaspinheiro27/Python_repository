{
 "cells": [
  {
   "cell_type": "markdown",
   "metadata": {},
   "source": [
    "Carregando bibliotecas"
   ]
  },
  {
   "cell_type": "code",
   "execution_count": 3,
   "metadata": {},
   "outputs": [],
   "source": [
    "import numpy as np\n"
   ]
  },
  {
   "cell_type": "markdown",
   "metadata": {},
   "source": [
    "Definindo lista de produtos"
   ]
  },
  {
   "cell_type": "code",
   "execution_count": 4,
   "metadata": {},
   "outputs": [],
   "source": [
    "prod = ['Kindle', 'Fire TV Stick', 'Echo Dot', 'Smartphones', 'Fones de ouvido bluetooth', 'Filtro de linha',\n",
    "        'Impressora multifuncional', 'Notebook', 'Smart TV', 'Pilhas descartáveis e recarregáveis']"
   ]
  },
  {
   "cell_type": "code",
   "execution_count": 5,
   "metadata": {},
   "outputs": [
    {
     "data": {
      "text/plain": [
       "array(['Kindle', 'Fire TV Stick', 'Echo Dot', 'Smartphones',\n",
       "       'Fones de ouvido bluetooth', 'Filtro de linha',\n",
       "       'Impressora multifuncional', 'Notebook', 'Smart TV',\n",
       "       'Pilhas descartáveis e recarregáveis'], dtype='<U35')"
      ]
     },
     "execution_count": 5,
     "metadata": {},
     "output_type": "execute_result"
    }
   ],
   "source": [
    "produtos = np.array(prod)\n",
    "produtos"
   ]
  },
  {
   "cell_type": "markdown",
   "metadata": {},
   "source": [
    "Remodelando matriz"
   ]
  },
  {
   "cell_type": "code",
   "execution_count": 6,
   "metadata": {},
   "outputs": [
    {
     "data": {
      "text/plain": [
       "array([['Kindle', 'Fire TV Stick', 'Echo Dot', 'Smartphones',\n",
       "        'Fones de ouvido bluetooth', 'Filtro de linha',\n",
       "        'Impressora multifuncional', 'Notebook', 'Smart TV',\n",
       "        'Pilhas descartáveis e recarregáveis']], dtype='<U35')"
      ]
     },
     "execution_count": 6,
     "metadata": {},
     "output_type": "execute_result"
    }
   ],
   "source": [
    "produtos.reshape((1,10))"
   ]
  },
  {
   "cell_type": "markdown",
   "metadata": {},
   "source": [
    "Pegando os 5 primeiros itens da matriz"
   ]
  },
  {
   "cell_type": "code",
   "execution_count": 7,
   "metadata": {},
   "outputs": [
    {
     "data": {
      "text/plain": [
       "array([['Kindle', 'Fire TV Stick', 'Echo Dot', 'Smartphones',\n",
       "        'Fones de ouvido bluetooth']], dtype='<U35')"
      ]
     },
     "execution_count": 7,
     "metadata": {},
     "output_type": "execute_result"
    }
   ],
   "source": [
    "produtos[np.newaxis, 0:5]"
   ]
  },
  {
   "cell_type": "markdown",
   "metadata": {},
   "source": [
    "Ordenando os itens em apenas uma coluna"
   ]
  },
  {
   "cell_type": "code",
   "execution_count": 8,
   "metadata": {},
   "outputs": [
    {
     "data": {
      "text/plain": [
       "array([['Kindle'],\n",
       "       ['Fire TV Stick'],\n",
       "       ['Echo Dot'],\n",
       "       ['Smartphones'],\n",
       "       ['Fones de ouvido bluetooth'],\n",
       "       ['Filtro de linha'],\n",
       "       ['Impressora multifuncional'],\n",
       "       ['Notebook'],\n",
       "       ['Smart TV'],\n",
       "       ['Pilhas descartáveis e recarregáveis']], dtype='<U35')"
      ]
     },
     "execution_count": 8,
     "metadata": {},
     "output_type": "execute_result"
    }
   ],
   "source": [
    "produtos.reshape((10,1))"
   ]
  },
  {
   "cell_type": "markdown",
   "metadata": {},
   "source": [
    "Usando concatenação dos primeiros cinco produtos e os últimos cinco itens da matriz"
   ]
  },
  {
   "cell_type": "code",
   "execution_count": 9,
   "metadata": {},
   "outputs": [
    {
     "data": {
      "text/plain": [
       "array(['Kindle', 'Fire TV Stick', 'Echo Dot', 'Smartphones',\n",
       "       'Fones de ouvido bluetooth', 'Filtro de linha',\n",
       "       'Impressora multifuncional', 'Notebook', 'Smart TV',\n",
       "       'Pilhas descartáveis e recarregáveis'], dtype='<U35')"
      ]
     },
     "execution_count": 9,
     "metadata": {},
     "output_type": "execute_result"
    }
   ],
   "source": [
    "x = np.array(['Kindle', 'Fire TV Stick', 'Echo Dot', 'Smartphones', 'Fones de ouvido bluetooth'])\n",
    "y = np.array(['Filtro de linha','Impressora multifuncional', 'Notebook', 'Smart TV', 'Pilhas descartáveis e recarregáveis'])\n",
    "np.concatenate([x,y])\n"
   ]
  },
  {
   "cell_type": "markdown",
   "metadata": {},
   "source": [
    "Fazendo a concatenção de mais itens"
   ]
  },
  {
   "cell_type": "code",
   "execution_count": 10,
   "metadata": {},
   "outputs": [],
   "source": [
    "z = ['Antena de TV interna', 'Caixas de som bluetooth', 'Condicionador automotivo', 'Jogos para PlayStation 5 e Xbox One', 'Carros Hot Wheels']"
   ]
  },
  {
   "cell_type": "code",
   "execution_count": 11,
   "metadata": {},
   "outputs": [
    {
     "data": {
      "text/plain": [
       "array(['Kindle', 'Fire TV Stick', 'Echo Dot', 'Smartphones',\n",
       "       'Fones de ouvido bluetooth', 'Filtro de linha',\n",
       "       'Impressora multifuncional', 'Notebook', 'Smart TV',\n",
       "       'Pilhas descartáveis e recarregáveis', 'Antena de TV interna',\n",
       "       'Caixas de som bluetooth', 'Condicionador automotivo',\n",
       "       'Jogos para PlayStation 5 e Xbox One', 'Carros Hot Wheels'],\n",
       "      dtype='<U35')"
      ]
     },
     "execution_count": 11,
     "metadata": {},
     "output_type": "execute_result"
    }
   ],
   "source": [
    "np.concatenate([x,y,z])"
   ]
  },
  {
   "cell_type": "markdown",
   "metadata": {},
   "source": [
    "Fazendo uma concatenação com 2 dimensões"
   ]
  },
  {
   "cell_type": "code",
   "execution_count": 12,
   "metadata": {},
   "outputs": [],
   "source": [
    "itens = np.array([['Kindle', 'Fire TV Stick', 'Echo Dot'],\n",
    "                  ['Smartphones','Fones de ouvido bluetooth', 'Filtro de linha']])"
   ]
  },
  {
   "cell_type": "code",
   "execution_count": 13,
   "metadata": {},
   "outputs": [
    {
     "data": {
      "text/plain": [
       "array([['Kindle', 'Fire TV Stick', 'Echo Dot'],\n",
       "       ['Smartphones', 'Fones de ouvido bluetooth', 'Filtro de linha'],\n",
       "       ['Kindle', 'Fire TV Stick', 'Echo Dot'],\n",
       "       ['Smartphones', 'Fones de ouvido bluetooth', 'Filtro de linha']],\n",
       "      dtype='<U25')"
      ]
     },
     "execution_count": 13,
     "metadata": {},
     "output_type": "execute_result"
    }
   ],
   "source": [
    "np.concatenate([itens,itens])"
   ]
  },
  {
   "cell_type": "code",
   "execution_count": 14,
   "metadata": {},
   "outputs": [
    {
     "data": {
      "text/plain": [
       "array([['Kindle', 'Fire TV Stick', 'Echo Dot', 'Kindle', 'Fire TV Stick',\n",
       "        'Echo Dot'],\n",
       "       ['Smartphones', 'Fones de ouvido bluetooth', 'Filtro de linha',\n",
       "        'Smartphones', 'Fones de ouvido bluetooth', 'Filtro de linha']],\n",
       "      dtype='<U25')"
      ]
     },
     "execution_count": 14,
     "metadata": {},
     "output_type": "execute_result"
    }
   ],
   "source": [
    "np.concatenate([itens,itens], axis=1)"
   ]
  },
  {
   "cell_type": "markdown",
   "metadata": {},
   "source": [
    "Organizando as matrizes verticalmente"
   ]
  },
  {
   "cell_type": "code",
   "execution_count": 15,
   "metadata": {},
   "outputs": [],
   "source": [
    "x = np.array(['Kindle', 'Fire TV Stick','Echo Dot'])\n",
    "y = np.array([['Smartphones', 'Fones de ouvido bluetooth', 'Filtro de linha'],\n",
    "             ['Impressora multifuncional', 'Notebook', 'Smart TV']])"
   ]
  },
  {
   "cell_type": "code",
   "execution_count": 16,
   "metadata": {},
   "outputs": [
    {
     "data": {
      "text/plain": [
       "array([['Kindle', 'Fire TV Stick', 'Echo Dot'],\n",
       "       ['Smartphones', 'Fones de ouvido bluetooth', 'Filtro de linha'],\n",
       "       ['Impressora multifuncional', 'Notebook', 'Smart TV']],\n",
       "      dtype='<U25')"
      ]
     },
     "execution_count": 16,
     "metadata": {},
     "output_type": "execute_result"
    }
   ],
   "source": [
    "np.vstack([x, y])\n"
   ]
  },
  {
   "cell_type": "markdown",
   "metadata": {},
   "source": [
    "Agora horizontalmente"
   ]
  },
  {
   "cell_type": "code",
   "execution_count": 17,
   "metadata": {},
   "outputs": [
    {
     "data": {
      "text/plain": [
       "array([['Smartphones', 'Fones de ouvido bluetooth', 'Filtro de linha',\n",
       "        'Azeite de oliva'],\n",
       "       ['Impressora multifuncional', 'Notebook', 'Smart TV', 'Frigobar']],\n",
       "      dtype='<U25')"
      ]
     },
     "execution_count": 17,
     "metadata": {},
     "output_type": "execute_result"
    }
   ],
   "source": [
    "z = np.array([['Azeite de oliva'],\n",
    "             ['Frigobar']])\n",
    "np.hstack([y,z])"
   ]
  },
  {
   "cell_type": "code",
   "execution_count": null,
   "metadata": {},
   "outputs": [],
   "source": []
  }
 ],
 "metadata": {
  "kernelspec": {
   "display_name": "Python 3",
   "language": "python",
   "name": "python3"
  },
  "language_info": {
   "codemirror_mode": {
    "name": "ipython",
    "version": 3
   },
   "file_extension": ".py",
   "mimetype": "text/x-python",
   "name": "python",
   "nbconvert_exporter": "python",
   "pygments_lexer": "ipython3",
   "version": "3.11.6"
  }
 },
 "nbformat": 4,
 "nbformat_minor": 2
}
