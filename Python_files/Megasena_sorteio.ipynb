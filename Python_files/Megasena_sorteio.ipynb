{
 "cells": [
  {
   "cell_type": "markdown",
   "metadata": {},
   "source": [
    "Carregando bibliotecas"
   ]
  },
  {
   "cell_type": "code",
   "execution_count": 21,
   "metadata": {},
   "outputs": [],
   "source": [
    "import numpy as np\n",
    "np.random.seed(0)\n"
   ]
  },
  {
   "cell_type": "markdown",
   "metadata": {},
   "source": [
    "Criando um array com os números da megasena do Concurso 2.644 • Sábado 14/10/2023"
   ]
  },
  {
   "cell_type": "code",
   "execution_count": 77,
   "metadata": {},
   "outputs": [
    {
     "data": {
      "text/plain": [
       "array([ 4, 17, 22, 28, 30, 49])"
      ]
     },
     "execution_count": 77,
     "metadata": {},
     "output_type": "execute_result"
    }
   ],
   "source": [
    "megasena1 = np.array([4,17,22,28,30,49])\n",
    "megasena1"
   ]
  },
  {
   "cell_type": "markdown",
   "metadata": {},
   "source": [
    "Apresentando todos os números participantes em sorteio"
   ]
  },
  {
   "cell_type": "code",
   "execution_count": 80,
   "metadata": {},
   "outputs": [
    {
     "data": {
      "text/plain": [
       "array([ 1,  2,  3,  4,  5,  6,  7,  8,  9, 10, 11, 12, 13, 14, 15, 16, 17,\n",
       "       18, 19, 20, 21, 22, 23, 24, 25, 26, 27, 28, 29, 30, 31, 32, 33, 34,\n",
       "       35, 36, 37, 38, 39, 40, 41, 42, 43, 44, 45, 46, 47, 48, 49, 50, 51,\n",
       "       52, 53, 54, 55, 56, 57, 58, 59, 60])"
      ]
     },
     "execution_count": 80,
     "metadata": {},
     "output_type": "execute_result"
    }
   ],
   "source": [
    "megasena = np.arange(1, 61, 1)\n",
    "megasena\n"
   ]
  },
  {
   "cell_type": "markdown",
   "metadata": {},
   "source": [
    "Fazendo um sorteio com apenas uma dimensão"
   ]
  },
  {
   "cell_type": "code",
   "execution_count": 79,
   "metadata": {},
   "outputs": [
    {
     "name": "stdout",
     "output_type": "stream",
     "text": [
      "quantidades de dimensões: 1\n"
     ]
    }
   ],
   "source": [
    "megasena1 =  np.random.randint(60, size=6)\n",
    "print(\"quantidades de dimensões:\", megasena.ndim)"
   ]
  },
  {
   "cell_type": "code",
   "execution_count": 78,
   "metadata": {},
   "outputs": [
    {
     "data": {
      "text/plain": [
       "array([ 4, 17, 22, 28, 30, 49])"
      ]
     },
     "execution_count": 78,
     "metadata": {},
     "output_type": "execute_result"
    }
   ],
   "source": [
    "megasena1"
   ]
  },
  {
   "cell_type": "markdown",
   "metadata": {},
   "source": [
    "Especificações"
   ]
  },
  {
   "cell_type": "code",
   "execution_count": 81,
   "metadata": {},
   "outputs": [
    {
     "name": "stdout",
     "output_type": "stream",
     "text": [
      "quantidade de dimensões:  1\n",
      "forma: (6,)\n",
      "tamanho:  6\n"
     ]
    }
   ],
   "source": [
    "print(\"quantidade de dimensões: \", megasena1.ndim)\n",
    "print(\"forma:\", megasena1.shape)\n",
    "print(\"tamanho: \", megasena1.size)"
   ]
  },
  {
   "cell_type": "markdown",
   "metadata": {},
   "source": [
    "Supondo que eu queira sortear apenas o primeiro número e o último do sorteio"
   ]
  },
  {
   "cell_type": "code",
   "execution_count": 84,
   "metadata": {},
   "outputs": [
    {
     "data": {
      "text/plain": [
       "array([ 4, 17, 22, 28, 30, 49])"
      ]
     },
     "execution_count": 84,
     "metadata": {},
     "output_type": "execute_result"
    }
   ],
   "source": [
    "megasena1 = np.array([4,17,22,28,30,49])\n",
    "megasena1"
   ]
  },
  {
   "cell_type": "code",
   "execution_count": 88,
   "metadata": {},
   "outputs": [
    {
     "data": {
      "text/plain": [
       "4"
      ]
     },
     "execution_count": 88,
     "metadata": {},
     "output_type": "execute_result"
    }
   ],
   "source": [
    "megasena1[0]"
   ]
  },
  {
   "cell_type": "code",
   "execution_count": 90,
   "metadata": {},
   "outputs": [
    {
     "data": {
      "text/plain": [
       "49"
      ]
     },
     "execution_count": 90,
     "metadata": {},
     "output_type": "execute_result"
    }
   ],
   "source": [
    "megasena1[5]"
   ]
  },
  {
   "cell_type": "markdown",
   "metadata": {},
   "source": [
    "Fazendo dois sorteios multi-dimensionais"
   ]
  },
  {
   "cell_type": "code",
   "execution_count": 102,
   "metadata": {},
   "outputs": [
    {
     "name": "stdout",
     "output_type": "stream",
     "text": [
      "quantidade de dimensões:  2\n"
     ]
    }
   ],
   "source": [
    "megasena2 = np.random.randint(60, size=(2, 6))\n",
    "print(\"quantidade de dimensões: \", megasena2.ndim)\n"
   ]
  },
  {
   "cell_type": "code",
   "execution_count": 103,
   "metadata": {},
   "outputs": [
    {
     "data": {
      "text/plain": [
       "array([[58,  4, 17,  5, 30, 24],\n",
       "       [ 3,  5, 40, 36, 58, 49]])"
      ]
     },
     "execution_count": 103,
     "metadata": {},
     "output_type": "execute_result"
    }
   ],
   "source": [
    "megasena2"
   ]
  },
  {
   "cell_type": "markdown",
   "metadata": {},
   "source": [
    "Pegando os dois primeiros números do sorteios"
   ]
  },
  {
   "cell_type": "code",
   "execution_count": 98,
   "metadata": {},
   "outputs": [
    {
     "data": {
      "text/plain": [
       "31"
      ]
     },
     "execution_count": 98,
     "metadata": {},
     "output_type": "execute_result"
    }
   ],
   "source": [
    "megasena2[0,0]"
   ]
  },
  {
   "cell_type": "code",
   "execution_count": 99,
   "metadata": {},
   "outputs": [
    {
     "data": {
      "text/plain": [
       "35"
      ]
     },
     "execution_count": 99,
     "metadata": {},
     "output_type": "execute_result"
    }
   ],
   "source": [
    "megasena2[1,0]"
   ]
  },
  {
   "cell_type": "code",
   "execution_count": 101,
   "metadata": {},
   "outputs": [
    {
     "data": {
      "text/plain": [
       "array([[17, 20,  6,  9, 27, 47],\n",
       "       [35, 19, 12, 18, 49, 10],\n",
       "       [34, 33, 43,  3, 12, 36]])"
      ]
     },
     "execution_count": 101,
     "metadata": {},
     "output_type": "execute_result"
    }
   ],
   "source": [
    "#Modificando o primeiro número do primeiro sorteio\n",
    "megasena2[0,0] = 17\n",
    "megasena2"
   ]
  },
  {
   "cell_type": "markdown",
   "metadata": {},
   "source": [
    "Especificações"
   ]
  },
  {
   "cell_type": "code",
   "execution_count": 67,
   "metadata": {},
   "outputs": [
    {
     "name": "stdout",
     "output_type": "stream",
     "text": [
      "quantidade de dimensões:  2\n",
      "forma: (3, 6)\n",
      "tamanho:  18\n"
     ]
    }
   ],
   "source": [
    "print(\"quantidade de dimensões: \", megasena2.ndim)\n",
    "print(\"forma:\", megasena2.shape)\n",
    "print(\"tamanho: \", megasena2.size)"
   ]
  },
  {
   "cell_type": "markdown",
   "metadata": {},
   "source": [
    "Fazendo sorteios para 2 meses de sorteios, supondo que haja 2 sorteios cada semana do mês"
   ]
  },
  {
   "cell_type": "code",
   "execution_count": 63,
   "metadata": {},
   "outputs": [],
   "source": [
    "megasena3 = np.random.randint(60, size=(2, 8, 6))"
   ]
  },
  {
   "cell_type": "code",
   "execution_count": 64,
   "metadata": {},
   "outputs": [
    {
     "data": {
      "text/plain": [
       "array([[[50, 28, 14, 37, 27, 54],\n",
       "        [36, 31, 29, 50, 46, 29],\n",
       "        [50, 33, 12, 32, 41, 16],\n",
       "        [ 2,  8, 51, 10, 48, 26],\n",
       "        [27, 56, 56,  1,  0,  5],\n",
       "        [24, 34, 15,  3, 46, 37],\n",
       "        [43, 19, 24,  6, 20,  6],\n",
       "        [28, 51,  6,  2, 28, 28]],\n",
       "\n",
       "       [[38, 37, 59,  5, 45,  9],\n",
       "        [36, 54, 13, 21, 59, 31],\n",
       "        [17, 35, 45, 51, 58,  8],\n",
       "        [25, 21, 45, 37, 22, 16],\n",
       "        [25, 46, 55, 37,  1,  5],\n",
       "        [ 6, 12, 26, 10, 59, 54],\n",
       "        [14,  8,  7, 45,  5, 47],\n",
       "        [59, 42,  3, 10, 50, 57]]])"
      ]
     },
     "execution_count": 64,
     "metadata": {},
     "output_type": "execute_result"
    }
   ],
   "source": [
    "megasena3"
   ]
  },
  {
   "cell_type": "code",
   "execution_count": 68,
   "metadata": {},
   "outputs": [
    {
     "name": "stdout",
     "output_type": "stream",
     "text": [
      "quantidade de dimensões:  3\n",
      "forma: (2, 8, 6)\n",
      "tamanho:  96\n"
     ]
    }
   ],
   "source": [
    "print(\"quantidade de dimensões: \", megasena3.ndim)\n",
    "print(\"forma:\", megasena3.shape)\n",
    "print(\"tamanho: \", megasena3.size)"
   ]
  },
  {
   "cell_type": "code",
   "execution_count": null,
   "metadata": {},
   "outputs": [],
   "source": []
  }
 ],
 "metadata": {
  "kernelspec": {
   "display_name": "Python 3",
   "language": "python",
   "name": "python3"
  },
  "language_info": {
   "codemirror_mode": {
    "name": "ipython",
    "version": 3
   },
   "file_extension": ".py",
   "mimetype": "text/x-python",
   "name": "python",
   "nbconvert_exporter": "python",
   "pygments_lexer": "ipython3",
   "version": "3.11.6"
  }
 },
 "nbformat": 4,
 "nbformat_minor": 2
}
