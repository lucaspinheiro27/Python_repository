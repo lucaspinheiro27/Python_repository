{
 "cells": [
  {
   "cell_type": "markdown",
   "metadata": {},
   "source": [
    "Carregando bibliotecas"
   ]
  },
  {
   "cell_type": "code",
   "execution_count": 46,
   "metadata": {},
   "outputs": [],
   "source": [
    "import numpy as np\n",
    "np.random.seed(0)\n"
   ]
  },
  {
   "cell_type": "markdown",
   "metadata": {},
   "source": [
    "Criando um array com os números da megasena do Concurso 2.644 • Sábado 14/10/2023"
   ]
  },
  {
   "cell_type": "code",
   "execution_count": 47,
   "metadata": {},
   "outputs": [
    {
     "data": {
      "text/plain": [
       "array([ 4, 17, 22, 28, 30, 49])"
      ]
     },
     "execution_count": 47,
     "metadata": {},
     "output_type": "execute_result"
    }
   ],
   "source": [
    "megasena_sorteio = np.array([4,17,22,28,30,49])\n",
    "megasena_sorteio"
   ]
  },
  {
   "cell_type": "markdown",
   "metadata": {},
   "source": [
    "Apresentando todos os números participantes em sorteio"
   ]
  },
  {
   "cell_type": "code",
   "execution_count": 48,
   "metadata": {},
   "outputs": [
    {
     "data": {
      "text/plain": [
       "array([ 1,  2,  3,  4,  5,  6,  7,  8,  9, 10, 11, 12, 13, 14, 15, 16, 17,\n",
       "       18, 19, 20, 21, 22, 23, 24, 25, 26, 27, 28, 29, 30, 31, 32, 33, 34,\n",
       "       35, 36, 37, 38, 39, 40, 41, 42, 43, 44, 45, 46, 47, 48, 49, 50, 51,\n",
       "       52, 53, 54, 55, 56, 57, 58, 59, 60])"
      ]
     },
     "execution_count": 48,
     "metadata": {},
     "output_type": "execute_result"
    }
   ],
   "source": [
    "megasena = np.arange(1, 61, 1)\n",
    "megasena\n"
   ]
  },
  {
   "cell_type": "markdown",
   "metadata": {},
   "source": [
    "Fazendo um sorteio com apenas uma dimensão"
   ]
  },
  {
   "cell_type": "code",
   "execution_count": 49,
   "metadata": {},
   "outputs": [
    {
     "name": "stdout",
     "output_type": "stream",
     "text": [
      "quantidades de dimensões: 1\n"
     ]
    }
   ],
   "source": [
    "megasena1 = np.random.randint(1, 61, size= 6)\n",
    "print(\"quantidades de dimensões:\", megasena.ndim)"
   ]
  },
  {
   "cell_type": "code",
   "execution_count": 50,
   "metadata": {},
   "outputs": [
    {
     "data": {
      "text/plain": [
       "array([45, 48, 54,  1,  4, 60])"
      ]
     },
     "execution_count": 50,
     "metadata": {},
     "output_type": "execute_result"
    }
   ],
   "source": [
    "megasena1"
   ]
  },
  {
   "cell_type": "markdown",
   "metadata": {},
   "source": [
    "Especificações"
   ]
  },
  {
   "cell_type": "code",
   "execution_count": 51,
   "metadata": {},
   "outputs": [
    {
     "name": "stdout",
     "output_type": "stream",
     "text": [
      "quantidade de dimensões:  1\n",
      "forma: (6,)\n",
      "tamanho:  6\n"
     ]
    }
   ],
   "source": [
    "print(\"quantidade de dimensões: \", megasena1.ndim)\n",
    "print(\"forma:\", megasena1.shape)\n",
    "print(\"tamanho: \", megasena1.size)"
   ]
  },
  {
   "cell_type": "markdown",
   "metadata": {},
   "source": [
    "Supondo que eu queira sortear apenas o primeiro número e o último do sorteio"
   ]
  },
  {
   "cell_type": "code",
   "execution_count": 52,
   "metadata": {},
   "outputs": [
    {
     "data": {
      "text/plain": [
       "array([ 4, 17, 22, 28, 30, 49])"
      ]
     },
     "execution_count": 52,
     "metadata": {},
     "output_type": "execute_result"
    }
   ],
   "source": [
    "megasena1 = np.array([4,17,22,28,30,49])\n",
    "megasena1"
   ]
  },
  {
   "cell_type": "code",
   "execution_count": 53,
   "metadata": {},
   "outputs": [
    {
     "data": {
      "text/plain": [
       "4"
      ]
     },
     "execution_count": 53,
     "metadata": {},
     "output_type": "execute_result"
    }
   ],
   "source": [
    "megasena1[0]"
   ]
  },
  {
   "cell_type": "code",
   "execution_count": 54,
   "metadata": {},
   "outputs": [
    {
     "data": {
      "text/plain": [
       "49"
      ]
     },
     "execution_count": 54,
     "metadata": {},
     "output_type": "execute_result"
    }
   ],
   "source": [
    "megasena1[5]"
   ]
  },
  {
   "cell_type": "markdown",
   "metadata": {},
   "source": [
    "Fazendo dois sorteios multi-dimensionais"
   ]
  },
  {
   "cell_type": "code",
   "execution_count": 55,
   "metadata": {},
   "outputs": [
    {
     "name": "stdout",
     "output_type": "stream",
     "text": [
      "quantidade de dimensões:  2\n"
     ]
    }
   ],
   "source": [
    "megasena3 = np.random.randint(1, 61, size=(2, 6))\n",
    "print(\"quantidade de dimensões: \", megasena2.ndim)\n"
   ]
  },
  {
   "cell_type": "code",
   "execution_count": 56,
   "metadata": {},
   "outputs": [
    {
     "data": {
      "text/plain": [
       "array([[18, 39,  9, 19, 21, 50],\n",
       "       [36, 23,  6, 24, 24, 12]])"
      ]
     },
     "execution_count": 56,
     "metadata": {},
     "output_type": "execute_result"
    }
   ],
   "source": [
    "megasena2"
   ]
  },
  {
   "cell_type": "markdown",
   "metadata": {},
   "source": [
    "Pegando os dois primeiros números do sorteios"
   ]
  },
  {
   "cell_type": "code",
   "execution_count": 58,
   "metadata": {},
   "outputs": [
    {
     "data": {
      "text/plain": [
       "18"
      ]
     },
     "execution_count": 58,
     "metadata": {},
     "output_type": "execute_result"
    }
   ],
   "source": [
    "megasena2[0,0]"
   ]
  },
  {
   "cell_type": "code",
   "execution_count": 59,
   "metadata": {},
   "outputs": [
    {
     "data": {
      "text/plain": [
       "36"
      ]
     },
     "execution_count": 59,
     "metadata": {},
     "output_type": "execute_result"
    }
   ],
   "source": [
    "megasena2[1,0]"
   ]
  },
  {
   "cell_type": "code",
   "execution_count": 62,
   "metadata": {},
   "outputs": [
    {
     "data": {
      "text/plain": [
       "array([[19, 39,  9, 19, 21, 50],\n",
       "       [36, 23,  6, 24, 24, 12]])"
      ]
     },
     "execution_count": 62,
     "metadata": {},
     "output_type": "execute_result"
    }
   ],
   "source": [
    "#Modificando o primeiro número do primeiro sorteio\n",
    "megasena2[0,0] = 19\n",
    "megasena2"
   ]
  },
  {
   "cell_type": "markdown",
   "metadata": {},
   "source": [
    "Especificações"
   ]
  },
  {
   "cell_type": "code",
   "execution_count": 63,
   "metadata": {},
   "outputs": [
    {
     "name": "stdout",
     "output_type": "stream",
     "text": [
      "quantidade de dimensões:  2\n",
      "forma: (2, 6)\n",
      "tamanho:  12\n"
     ]
    }
   ],
   "source": [
    "print(\"quantidade de dimensões: \", megasena2.ndim)\n",
    "print(\"forma:\", megasena2.shape)\n",
    "print(\"tamanho: \", megasena2.size)"
   ]
  },
  {
   "cell_type": "markdown",
   "metadata": {},
   "source": [
    "Fazendo sorteios para 2 meses, supondo que haja 2 sorteios cada semana do mês"
   ]
  },
  {
   "cell_type": "code",
   "execution_count": 64,
   "metadata": {},
   "outputs": [],
   "source": [
    "megasena3 = np.random.randint(1, 61, size=(2, 8, 6))"
   ]
  },
  {
   "cell_type": "code",
   "execution_count": 65,
   "metadata": {},
   "outputs": [
    {
     "data": {
      "text/plain": [
       "array([[[59,  2, 39, 40, 24, 47],\n",
       "        [25, 18, 38, 26, 14,  9],\n",
       "        [10, 21, 52, 17, 52,  6],\n",
       "        [16, 48,  1, 19, 36, 25],\n",
       "        [50, 52, 30, 20, 20, 15],\n",
       "        [40, 33,  2, 10, 58, 33],\n",
       "        [32, 11, 53, 24, 36, 12],\n",
       "        [51, 56, 29, 35,  1,  1]],\n",
       "\n",
       "       [[37, 54,  6, 39, 41, 53],\n",
       "        [18, 16,  5, 42, 43, 59],\n",
       "        [32, 57,  2,  2, 40, 42],\n",
       "        [58, 36, 39, 56, 12, 47],\n",
       "        [19, 28,  1, 15, 36, 54],\n",
       "        [13, 58, 43, 21, 12,  5],\n",
       "        [ 7,  5, 48, 53,  4, 13],\n",
       "        [37, 53, 41, 15, 16, 21]]])"
      ]
     },
     "execution_count": 65,
     "metadata": {},
     "output_type": "execute_result"
    }
   ],
   "source": [
    "megasena3"
   ]
  },
  {
   "cell_type": "code",
   "execution_count": 66,
   "metadata": {},
   "outputs": [
    {
     "name": "stdout",
     "output_type": "stream",
     "text": [
      "quantidade de dimensões:  3\n",
      "forma: (2, 8, 6)\n",
      "tamanho:  96\n"
     ]
    }
   ],
   "source": [
    "print(\"quantidade de dimensões: \", megasena3.ndim)\n",
    "print(\"forma:\", megasena3.shape)\n",
    "print(\"tamanho: \", megasena3.size)"
   ]
  }
 ],
 "metadata": {
  "kernelspec": {
   "display_name": "Python 3",
   "language": "python",
   "name": "python3"
  },
  "language_info": {
   "codemirror_mode": {
    "name": "ipython",
    "version": 3
   },
   "file_extension": ".py",
   "mimetype": "text/x-python",
   "name": "python",
   "nbconvert_exporter": "python",
   "pygments_lexer": "ipython3",
   "version": "3.11.6"
  }
 },
 "nbformat": 4,
 "nbformat_minor": 2
}
