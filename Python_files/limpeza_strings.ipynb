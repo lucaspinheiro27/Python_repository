{
 "cells": [
  {
   "cell_type": "markdown",
   "id": "83058838-cf3a-4ec9-bf42-70a677645eba",
   "metadata": {},
   "source": [
    "## Limpeza de strings "
   ]
  },
  {
   "cell_type": "code",
   "execution_count": 58,
   "id": "f0435905-1576-45ea-a4b2-c9ef7b5c7929",
   "metadata": {},
   "outputs": [],
   "source": [
    "estados = [ 'ACre', 'Alagoas?', 'alagoas', 'Alagoas', 'Rio de Janeiro', 'São Paulo##', 'Amazonas!']\n"
   ]
  },
  {
   "cell_type": "code",
   "execution_count": 59,
   "id": "3ea9bc3f-3029-4723-9a5b-d1c87b4d8731",
   "metadata": {},
   "outputs": [],
   "source": [
    "import re "
   ]
  },
  {
   "cell_type": "code",
   "execution_count": 60,
   "id": "274aba70-06ae-48ab-a240-74d5b255b2e1",
   "metadata": {},
   "outputs": [],
   "source": [
    "def uniform(strings):\n",
    "    result = []\n",
    "    for value in strings:\n",
    "        value = value.strip()\n",
    "        value = re.sub('[!#?]', '', value)\n",
    "        value = value.title()\n",
    "        result.append(value)\n",
    "    return result"
   ]
  },
  {
   "cell_type": "code",
   "execution_count": 61,
   "id": "7051b5bf-a0fc-4451-a304-e7208626939a",
   "metadata": {},
   "outputs": [
    {
     "data": {
      "text/plain": [
       "['Acre',\n",
       " 'Alagoas',\n",
       " 'Alagoas',\n",
       " 'Alagoas',\n",
       " 'Rio De Janeiro',\n",
       " 'São Paulo',\n",
       " 'Amazonas']"
      ]
     },
     "execution_count": 61,
     "metadata": {},
     "output_type": "execute_result"
    }
   ],
   "source": [
    "uniform(estados)"
   ]
  },
  {
   "cell_type": "code",
   "execution_count": 62,
   "id": "102c5d5a-168b-4ba0-80b5-d9b93756ae57",
   "metadata": {},
   "outputs": [],
   "source": [
    "def pontuacao(value):\n",
    "    return re.sub('[!#?]', '', value)\n",
    "\n",
    "limpeza = [str.strip, pontuacao, str.title]\n",
    "\n",
    "def uniform(strings, limpeza):\n",
    "    result = []\n",
    "    for value in strings:\n",
    "        for function in limpeza:\n",
    "            value = function(value)\n",
    "        result.append(value)\n",
    "    return result"
   ]
  },
  {
   "cell_type": "code",
   "execution_count": 63,
   "id": "69a1b978-e23d-4491-987b-70d8c3bd74ac",
   "metadata": {},
   "outputs": [
    {
     "data": {
      "text/plain": [
       "['Acre',\n",
       " 'Alagoas',\n",
       " 'Alagoas',\n",
       " 'Alagoas',\n",
       " 'Rio De Janeiro',\n",
       " 'São Paulo',\n",
       " 'Amazonas']"
      ]
     },
     "execution_count": 63,
     "metadata": {},
     "output_type": "execute_result"
    }
   ],
   "source": [
    "uniform(estados, limpeza)"
   ]
  },
  {
   "cell_type": "markdown",
   "id": "9a4dfdb9-b144-4014-ab55-803d2b681fbc",
   "metadata": {},
   "source": [
    "Built-in map"
   ]
  },
  {
   "cell_type": "code",
   "execution_count": 64,
   "id": "2462c7b2-4099-4832-b949-55a2aecbaf9e",
   "metadata": {},
   "outputs": [
    {
     "name": "stdout",
     "output_type": "stream",
     "text": [
      "ACre\n",
      "Alagoas\n",
      "alagoas\n",
      "Alagoas\n",
      "Rio de Janeiro\n",
      "São Paulo\n",
      "Amazonas\n"
     ]
    }
   ],
   "source": [
    "for x in map(pontuacao, estados):\n",
    "    print(x)"
   ]
  },
  {
   "cell_type": "markdown",
   "id": "8fc8e066-1b26-4749-98d1-454ebd6d1e05",
   "metadata": {},
   "source": [
    "## Itertools"
   ]
  },
  {
   "cell_type": "code",
   "execution_count": 65,
   "id": "f31df850-5b6a-4d9d-acab-abbb6d0014df",
   "metadata": {},
   "outputs": [],
   "source": [
    "import itertools"
   ]
  },
  {
   "cell_type": "code",
   "execution_count": 66,
   "id": "bc9cca45-1a76-488e-b0d2-7fac29f6f666",
   "metadata": {},
   "outputs": [],
   "source": [
    "primeira = lambda x: x[0]"
   ]
  },
  {
   "cell_type": "code",
   "execution_count": 67,
   "id": "064f2200-7e2f-49c4-9bb0-dc8be57a72fc",
   "metadata": {},
   "outputs": [],
   "source": [
    "nomes = ['José', 'Jandira', 'Arthur', 'Alfredo', 'João', 'Joana', 'Amanda', 'Arrascaeta']"
   ]
  },
  {
   "cell_type": "code",
   "execution_count": 68,
   "id": "a385fcd8-2e91-41b2-a715-4ebc6a6e6626",
   "metadata": {},
   "outputs": [
    {
     "name": "stdout",
     "output_type": "stream",
     "text": [
      "J ['José', 'Jandira']\n",
      "A ['Arthur', 'Alfredo']\n",
      "J ['João', 'Joana']\n",
      "A ['Amanda', 'Arrascaeta']\n"
     ]
    }
   ],
   "source": [
    "for letra, nomes in itertools.groupby(nomes, primeira):\n",
    "    print(letra, list(nomes))"
   ]
  },
  {
   "cell_type": "code",
   "execution_count": null,
   "id": "e1985bf0-7870-447a-9c23-0003eac7694e",
   "metadata": {},
   "outputs": [],
   "source": []
  }
 ],
 "metadata": {
  "kernelspec": {
   "display_name": "Python 3 (ipykernel)",
   "language": "python",
   "name": "python3"
  },
  "language_info": {
   "codemirror_mode": {
    "name": "ipython",
    "version": 3
   },
   "file_extension": ".py",
   "mimetype": "text/x-python",
   "name": "python",
   "nbconvert_exporter": "python",
   "pygments_lexer": "ipython3",
   "version": "3.12.1"
  }
 },
 "nbformat": 4,
 "nbformat_minor": 5
}
