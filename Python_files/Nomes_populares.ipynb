{
 "cells": [
  {
   "cell_type": "markdown",
   "metadata": {},
   "source": [
    "Carregando bibliotecas"
   ]
  },
  {
   "cell_type": "code",
   "execution_count": 95,
   "metadata": {},
   "outputs": [],
   "source": [
    "import numpy as np"
   ]
  },
  {
   "cell_type": "markdown",
   "metadata": {},
   "source": [
    "Os 20 nomes mais populares do Mundo, utilizando técnica de slicing"
   ]
  },
  {
   "cell_type": "code",
   "execution_count": 96,
   "metadata": {},
   "outputs": [],
   "source": [
    "nomes = [\"Maria\", \"Nushi\", \"Mohammed\", \"Jose\", \"Muhammad\", \"Mohamed\", \"Wei\", \"Mohammad\", \"Ahmed\", \n",
    "         \"Yan\", \"Ali\", \"John\", \"David\", \"Li\", \"Abdul\", \"Ana\", \"Ying\", \"Michael\", \"Juan\", \"Anna\"]\n"
   ]
  },
  {
   "cell_type": "markdown",
   "metadata": {},
   "source": [
    "Definindo meu array"
   ]
  },
  {
   "cell_type": "code",
   "execution_count": 97,
   "metadata": {},
   "outputs": [],
   "source": [
    "array = np.array(nomes)\n"
   ]
  },
  {
   "cell_type": "markdown",
   "metadata": {},
   "source": [
    "Pegando os primeiros 4 elementos"
   ]
  },
  {
   "cell_type": "code",
   "execution_count": 98,
   "metadata": {},
   "outputs": [
    {
     "data": {
      "text/plain": [
       "['Maria', 'Nushi', 'Mohammed', 'Jose']"
      ]
     },
     "execution_count": 98,
     "metadata": {},
     "output_type": "execute_result"
    }
   ],
   "source": [
    "nomes[:4]"
   ]
  },
  {
   "cell_type": "markdown",
   "metadata": {},
   "source": [
    "Elementos após o 4 elemento"
   ]
  },
  {
   "cell_type": "code",
   "execution_count": 99,
   "metadata": {},
   "outputs": [
    {
     "data": {
      "text/plain": [
       "['Muhammad',\n",
       " 'Mohamed',\n",
       " 'Wei',\n",
       " 'Mohammad',\n",
       " 'Ahmed',\n",
       " 'Yan',\n",
       " 'Ali',\n",
       " 'John',\n",
       " 'David',\n",
       " 'Li',\n",
       " 'Abdul',\n",
       " 'Ana',\n",
       " 'Ying',\n",
       " 'Michael',\n",
       " 'Juan',\n",
       " 'Anna']"
      ]
     },
     "execution_count": 99,
     "metadata": {},
     "output_type": "execute_result"
    }
   ],
   "source": [
    "nomes[4:]"
   ]
  },
  {
   "cell_type": "markdown",
   "metadata": {},
   "source": [
    "Entre 4 e 9 elemento"
   ]
  },
  {
   "cell_type": "code",
   "execution_count": 100,
   "metadata": {},
   "outputs": [
    {
     "data": {
      "text/plain": [
       "['Muhammad', 'Mohamed', 'Wei', 'Mohammad', 'Ahmed']"
      ]
     },
     "execution_count": 100,
     "metadata": {},
     "output_type": "execute_result"
    }
   ],
   "source": [
    "nomes[4:9]"
   ]
  },
  {
   "cell_type": "markdown",
   "metadata": {},
   "source": [
    "Qualquer elemento om o pulo de 2"
   ]
  },
  {
   "cell_type": "code",
   "execution_count": 101,
   "metadata": {},
   "outputs": [
    {
     "data": {
      "text/plain": [
       "['Maria',\n",
       " 'Mohammed',\n",
       " 'Muhammad',\n",
       " 'Wei',\n",
       " 'Ahmed',\n",
       " 'Ali',\n",
       " 'David',\n",
       " 'Abdul',\n",
       " 'Ying',\n",
       " 'Juan']"
      ]
     },
     "execution_count": 101,
     "metadata": {},
     "output_type": "execute_result"
    }
   ],
   "source": [
    "nomes[::2]"
   ]
  },
  {
   "cell_type": "markdown",
   "metadata": {},
   "source": [
    "Começando pelo primeiro elemento"
   ]
  },
  {
   "cell_type": "code",
   "execution_count": 102,
   "metadata": {},
   "outputs": [
    {
     "data": {
      "text/plain": [
       "['Nushi',\n",
       " 'Jose',\n",
       " 'Mohamed',\n",
       " 'Mohammad',\n",
       " 'Yan',\n",
       " 'John',\n",
       " 'Li',\n",
       " 'Ana',\n",
       " 'Michael',\n",
       " 'Anna']"
      ]
     },
     "execution_count": 102,
     "metadata": {},
     "output_type": "execute_result"
    }
   ],
   "source": [
    "nomes[1::2]"
   ]
  },
  {
   "cell_type": "markdown",
   "metadata": {},
   "source": [
    "Em ordem reversa"
   ]
  },
  {
   "cell_type": "code",
   "execution_count": 42,
   "metadata": {},
   "outputs": [
    {
     "data": {
      "text/plain": [
       "['Anna',\n",
       " 'Juan',\n",
       " 'Michael',\n",
       " 'Ying',\n",
       " 'Ana',\n",
       " 'Abdul',\n",
       " 'Li',\n",
       " 'David',\n",
       " 'John',\n",
       " 'Ali',\n",
       " 'Yan',\n",
       " 'Ahmed',\n",
       " 'Mohammad',\n",
       " 'Wei',\n",
       " 'Mohamed',\n",
       " 'Muhammad',\n",
       " 'Jose',\n",
       " 'Mohammed',\n",
       " 'Nushi',\n",
       " 'Maria']"
      ]
     },
     "execution_count": 42,
     "metadata": {},
     "output_type": "execute_result"
    }
   ],
   "source": [
    "nomes[::-1]"
   ]
  },
  {
   "cell_type": "markdown",
   "metadata": {},
   "source": [
    "A partir do 5 elemento"
   ]
  },
  {
   "cell_type": "code",
   "execution_count": 103,
   "metadata": {},
   "outputs": [
    {
     "data": {
      "text/plain": [
       "['Mohamed', 'Jose', 'Nushi']"
      ]
     },
     "execution_count": 103,
     "metadata": {},
     "output_type": "execute_result"
    }
   ],
   "source": [
    "nomes[5::-2]"
   ]
  },
  {
   "cell_type": "markdown",
   "metadata": {},
   "source": [
    "Multi-dimensões"
   ]
  },
  {
   "cell_type": "code",
   "execution_count": 104,
   "metadata": {},
   "outputs": [],
   "source": [
    "multi_dim = np.random.choice(nomes, size=(3, 6))"
   ]
  },
  {
   "cell_type": "code",
   "execution_count": 105,
   "metadata": {},
   "outputs": [
    {
     "data": {
      "text/plain": [
       "array([['David', 'Ying', 'Jose', 'Maria', 'Ali', 'Ying'],\n",
       "       ['Nushi', 'Muhammad', 'Maria', 'Wei', 'Ahmed', 'Muhammad'],\n",
       "       ['Ana', 'Mohammed', 'Ali', 'Michael', 'Ali', 'Jose']], dtype='<U8')"
      ]
     },
     "execution_count": 105,
     "metadata": {},
     "output_type": "execute_result"
    }
   ],
   "source": [
    "multi_dim"
   ]
  },
  {
   "cell_type": "markdown",
   "metadata": {},
   "source": [
    "Duas linhas e quatro colunas"
   ]
  },
  {
   "cell_type": "code",
   "execution_count": 106,
   "metadata": {},
   "outputs": [
    {
     "data": {
      "text/plain": [
       "array([['David', 'Ying', 'Jose', 'Maria'],\n",
       "       ['Nushi', 'Muhammad', 'Maria', 'Wei']], dtype='<U8')"
      ]
     },
     "execution_count": 106,
     "metadata": {},
     "output_type": "execute_result"
    }
   ],
   "source": [
    "multi_dim[:2, :4]"
   ]
  },
  {
   "cell_type": "markdown",
   "metadata": {},
   "source": [
    "Todas as linhas e qualquer coluna"
   ]
  },
  {
   "cell_type": "code",
   "execution_count": 107,
   "metadata": {},
   "outputs": [
    {
     "data": {
      "text/plain": [
       "array([['David', 'Jose', 'Ali'],\n",
       "       ['Nushi', 'Maria', 'Ahmed'],\n",
       "       ['Ana', 'Ali', 'Ali']], dtype='<U8')"
      ]
     },
     "execution_count": 107,
     "metadata": {},
     "output_type": "execute_result"
    }
   ],
   "source": [
    "multi_dim[:3, ::2]"
   ]
  },
  {
   "cell_type": "markdown",
   "metadata": {},
   "source": [
    "Dimensões reversas"
   ]
  },
  {
   "cell_type": "code",
   "execution_count": 108,
   "metadata": {},
   "outputs": [
    {
     "data": {
      "text/plain": [
       "array([['Jose', 'Ali', 'Michael', 'Ali', 'Mohammed', 'Ana'],\n",
       "       ['Muhammad', 'Ahmed', 'Wei', 'Maria', 'Muhammad', 'Nushi'],\n",
       "       ['Ying', 'Ali', 'Maria', 'Jose', 'Ying', 'David']], dtype='<U8')"
      ]
     },
     "execution_count": 108,
     "metadata": {},
     "output_type": "execute_result"
    }
   ],
   "source": [
    "multi_dim[::-1, ::-1]\n"
   ]
  },
  {
   "cell_type": "markdown",
   "metadata": {},
   "source": [
    "Selecionando apenas a primeira coluna"
   ]
  },
  {
   "cell_type": "code",
   "execution_count": 109,
   "metadata": {},
   "outputs": [
    {
     "name": "stdout",
     "output_type": "stream",
     "text": [
      "['David' 'Nushi' 'Ana']\n"
     ]
    }
   ],
   "source": [
    "print(multi_dim[:, 0])"
   ]
  },
  {
   "cell_type": "markdown",
   "metadata": {},
   "source": [
    "Primeira linha"
   ]
  },
  {
   "cell_type": "code",
   "execution_count": 110,
   "metadata": {},
   "outputs": [
    {
     "name": "stdout",
     "output_type": "stream",
     "text": [
      "['David' 'Ying' 'Jose' 'Maria' 'Ali' 'Ying']\n"
     ]
    }
   ],
   "source": [
    "print(multi_dim[0, :])"
   ]
  },
  {
   "cell_type": "code",
   "execution_count": 111,
   "metadata": {},
   "outputs": [
    {
     "name": "stdout",
     "output_type": "stream",
     "text": [
      "[['David' 'Ying' 'Jose' 'Maria' 'Ali' 'Ying']\n",
      " ['Nushi' 'Muhammad' 'Maria' 'Wei' 'Ahmed' 'Muhammad']\n",
      " ['Ana' 'Mohammed' 'Ali' 'Michael' 'Ali' 'Jose']]\n"
     ]
    }
   ],
   "source": [
    "print(multi_dim)"
   ]
  },
  {
   "cell_type": "markdown",
   "metadata": {},
   "source": [
    "Extraindo um subarray 2×2"
   ]
  },
  {
   "cell_type": "code",
   "execution_count": 112,
   "metadata": {},
   "outputs": [
    {
     "name": "stdout",
     "output_type": "stream",
     "text": [
      "[['David' 'Ying']\n",
      " ['Nushi' 'Muhammad']]\n"
     ]
    }
   ],
   "source": [
    "multi_sub = multi_dim[:2, :2]\n",
    "print(multi_sub)\n"
   ]
  },
  {
   "cell_type": "markdown",
   "metadata": {},
   "source": [
    "Podemos também alterar o array original"
   ]
  },
  {
   "cell_type": "code",
   "execution_count": 115,
   "metadata": {},
   "outputs": [
    {
     "data": {
      "text/plain": [
       "array([['Lucas', 'Ying', 'Jose', 'Maria', 'Ali', 'Ying'],\n",
       "       ['Nushi', 'Muhammad', 'Maria', 'Wei', 'Ahmed', 'Muhammad'],\n",
       "       ['Ana', 'Mohammed', 'Ali', 'Michael', 'Ali', 'Jose']], dtype='<U8')"
      ]
     },
     "execution_count": 115,
     "metadata": {},
     "output_type": "execute_result"
    }
   ],
   "source": [
    "multi_sub[0, 0] = 'Lucas'\n",
    "multi_dim\n"
   ]
  },
  {
   "cell_type": "code",
   "execution_count": 116,
   "metadata": {},
   "outputs": [
    {
     "data": {
      "text/plain": [
       "array([['Lucas', 'Ying', 'Jose', 'Maria', 'Ali', 'Ying'],\n",
       "       ['Nushi', 'Muhammad', 'Maria', 'Wei', 'Ahmed', 'Muhammad'],\n",
       "       ['Ana', 'Mohammed', 'Ali', 'Michael', 'Ali', 'Jose']], dtype='<U8')"
      ]
     },
     "execution_count": 116,
     "metadata": {},
     "output_type": "execute_result"
    }
   ],
   "source": [
    "multi_dim"
   ]
  },
  {
   "cell_type": "markdown",
   "metadata": {},
   "source": [
    "Copiando o subarray sem alterar o original"
   ]
  },
  {
   "cell_type": "code",
   "execution_count": 117,
   "metadata": {},
   "outputs": [
    {
     "data": {
      "text/plain": [
       "array([['Lucas', 'Ying'],\n",
       "       ['Nushi', 'Muhammad']], dtype='<U8')"
      ]
     },
     "execution_count": 117,
     "metadata": {},
     "output_type": "execute_result"
    }
   ],
   "source": [
    "multi_dim_copia = multi_dim[:2, :2].copy()\n",
    "multi_dim_copia\n"
   ]
  },
  {
   "cell_type": "code",
   "execution_count": 118,
   "metadata": {},
   "outputs": [
    {
     "data": {
      "text/plain": [
       "array([['Maria', 'Ying'],\n",
       "       ['Nushi', 'Muhammad']], dtype='<U8')"
      ]
     },
     "execution_count": 118,
     "metadata": {},
     "output_type": "execute_result"
    }
   ],
   "source": [
    "multi_dim_copia[0, 0] = 'Maria'\n",
    "multi_dim_copia\n"
   ]
  },
  {
   "cell_type": "markdown",
   "metadata": {},
   "source": [
    "Comparação"
   ]
  },
  {
   "cell_type": "code",
   "execution_count": 119,
   "metadata": {},
   "outputs": [
    {
     "data": {
      "text/plain": [
       "array([['Lucas', 'Ying', 'Jose', 'Maria', 'Ali', 'Ying'],\n",
       "       ['Nushi', 'Muhammad', 'Maria', 'Wei', 'Ahmed', 'Muhammad'],\n",
       "       ['Ana', 'Mohammed', 'Ali', 'Michael', 'Ali', 'Jose']], dtype='<U8')"
      ]
     },
     "execution_count": 119,
     "metadata": {},
     "output_type": "execute_result"
    }
   ],
   "source": [
    "multi_dim"
   ]
  }
 ],
 "metadata": {
  "kernelspec": {
   "display_name": "Python 3",
   "language": "python",
   "name": "python3"
  },
  "language_info": {
   "codemirror_mode": {
    "name": "ipython",
    "version": 3
   },
   "file_extension": ".py",
   "mimetype": "text/x-python",
   "name": "python",
   "nbconvert_exporter": "python",
   "pygments_lexer": "ipython3",
   "version": "3.11.6"
  }
 },
 "nbformat": 4,
 "nbformat_minor": 2
}
